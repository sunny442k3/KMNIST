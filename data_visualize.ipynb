{
  "nbformat": 4,
  "nbformat_minor": 0,
  "metadata": {
    "colab": {
      "provenance": []
    },
    "kernelspec": {
      "name": "python3",
      "display_name": "Python 3"
    },
    "language_info": {
      "name": "python"
    }
  },
  "cells": [
    {
      "cell_type": "code",
      "source": [
        "import numpy as np\n",
        "import pandas as pd\n",
        "from IPython.display import SVG\n",
        "import matplotlib.pyplot as plt\n",
        "from utils import download_list, drive_download\n",
        "%matplotlib inline "
      ],
      "metadata": {
        "id": "SM3QJcQ87E9F"
      },
      "execution_count": 1,
      "outputs": []
    },
    {
      "cell_type": "code",
      "source": [
        "# https://drive.google.com/file/d/11zuiHlBcpPia1UctQceogt1KiB4G6Yg7/view?usp=sharing\n",
        "# https://drive.google.com/file/d/170Me2wb5yS1zWpCcGp0zC7ur2iCDlR8X/view?usp=sharing\n",
        "# drive_download(\"11zuiHlBcpPia1UctQceogt1KiB4G6Yg7\", \"./kmnist_classmap.csv\") # For 10 classes\n",
        "drive_download(\"170Me2wb5yS1zWpCcGp0zC7ur2iCDlR8X\", \"./k49_classmap.csv\") # For 49 classes"
      ],
      "metadata": {
        "colab": {
          "base_uri": "https://localhost:8080/"
        },
        "id": "J-ULB82a_ec8",
        "outputId": "c7c681fe-2d8f-4168-cb75-18acadfa4c10"
      },
      "execution_count": 9,
      "outputs": [
        {
          "output_type": "stream",
          "name": "stderr",
          "text": [
            "Downloading...\n",
            "From: https://drive.google.com/uc?id=11zuiHlBcpPia1UctQceogt1KiB4G6Yg7\n",
            "To: /content/kmnist_classmap.csv\n",
            "100%|██████████| 151/151 [00:00<00:00, 514kB/s]\n"
          ]
        }
      ]
    },
    {
      "cell_type": "code",
      "source": [
        "download_list(49, \"npz\")"
      ],
      "metadata": {
        "id": "rByHCbPu7GC8"
      },
      "execution_count": null,
      "outputs": []
    },
    {
      "cell_type": "code",
      "source": [
        "IMG_ROWS = 28\n",
        "IMG_COLS = 28\n",
        "NUM_CLASSES = 49\n",
        "TEST_SIZE = 0.1\n",
        "RANDOM_STATE = 404"
      ],
      "metadata": {
        "id": "B_vFu-nj-07b"
      },
      "execution_count": 2,
      "outputs": []
    },
    {
      "cell_type": "code",
      "source": [
        "train_images = np.load('./k49-train-imgs.npz')['arr_0']\n",
        "test_images = np.load('./k49-test-imgs.npz')['arr_0']\n",
        "train_labels = np.load('./k49-train-labels.npz')['arr_0']\n",
        "test_labels = np.load('./k49-test-labels.npz')['arr_0']"
      ],
      "metadata": {
        "id": "v_t3ASlQ-8sz"
      },
      "execution_count": 3,
      "outputs": []
    },
    {
      "cell_type": "code",
      "source": [
        "tmp_map = \"\"\"\n",
        "a\n",
        "i\n",
        "u\n",
        "e\n",
        "o\n",
        "ka\n",
        "ki\n",
        "ku\n",
        "ke\n",
        "ko\n",
        "sa\n",
        "shi\n",
        "su\n",
        "se\n",
        "so\n",
        "ta\n",
        "chi\n",
        "tsu\n",
        "te\n",
        "to\n",
        "na\n",
        "ni\n",
        "nu\n",
        "ne\n",
        "no\n",
        "ha\n",
        "hi\n",
        "fu\n",
        "he\n",
        "ho\n",
        "ma\n",
        "mi\n",
        "mu\n",
        "me\n",
        "mo\n",
        "ya\n",
        "yu\n",
        "yo\n",
        "ra\n",
        "ri\n",
        "ru\n",
        "re\n",
        "ro\n",
        "wa\n",
        "_\n",
        "_\n",
        "o\n",
        "n\n",
        "_\"\"\".split(\"\\n\")\n",
        "tmp_map = [i.strip(\"\") for i in tmp_map if len(i.strip())]\n",
        "print(*tmp_map)"
      ],
      "metadata": {
        "colab": {
          "base_uri": "https://localhost:8080/"
        },
        "id": "DGV4v6DtFxaK",
        "outputId": "80bf6165-086c-425b-e719-8fc6f6069955"
      },
      "execution_count": 4,
      "outputs": [
        {
          "output_type": "stream",
          "name": "stdout",
          "text": [
            "a i u e o ka ki ku ke ko sa shi su se so ta chi tsu te to na ni nu ne no ha hi fu he ho ma mi mu me mo ya yu yo ra ri ru re ro wa _ _ o n _\n"
          ]
        }
      ]
    },
    {
      "cell_type": "code",
      "source": [
        "char_df = pd.read_csv('./k49_classmap.csv', encoding = 'utf-8')\n",
        "char_df[\"romaji\"] = tmp_map\n",
        "char_df"
      ],
      "metadata": {
        "colab": {
          "base_uri": "https://localhost:8080/",
          "height": 1000
        },
        "id": "OGsGqUap_EWU",
        "outputId": "6dc1a8c1-9d58-4c0e-91c1-9dcadaaae9e4"
      },
      "execution_count": 5,
      "outputs": [
        {
          "output_type": "execute_result",
          "data": {
            "text/plain": [
              "    index codepoint char romaji\n",
              "0       0    U+3042    あ      a\n",
              "1       1    U+3044    い      i\n",
              "2       2    U+3046    う      u\n",
              "3       3    U+3048    え      e\n",
              "4       4    U+304A    お      o\n",
              "5       5    U+304B    か     ka\n",
              "6       6    U+304D    き     ki\n",
              "7       7    U+304F    く     ku\n",
              "8       8    U+3051    け     ke\n",
              "9       9    U+3053    こ     ko\n",
              "10     10    U+3055    さ     sa\n",
              "11     11    U+3057    し    shi\n",
              "12     12    U+3059    す     su\n",
              "13     13    U+305B    せ     se\n",
              "14     14    U+305D    そ     so\n",
              "15     15    U+305F    た     ta\n",
              "16     16    U+3061    ち    chi\n",
              "17     17    U+3064    つ    tsu\n",
              "18     18    U+3066    て     te\n",
              "19     19    U+3068    と     to\n",
              "20     20    U+306A    な     na\n",
              "21     21    U+306B    に     ni\n",
              "22     22    U+306C    ぬ     nu\n",
              "23     23    U+306D    ね     ne\n",
              "24     24    U+306E    の     no\n",
              "25     25    U+306F    は     ha\n",
              "26     26    U+3072    ひ     hi\n",
              "27     27    U+3075    ふ     fu\n",
              "28     28    U+3078    へ     he\n",
              "29     29    U+307B    ほ     ho\n",
              "30     30    U+307E    ま     ma\n",
              "31     31    U+307F    み     mi\n",
              "32     32    U+3080    む     mu\n",
              "33     33    U+3081    め     me\n",
              "34     34    U+3082    も     mo\n",
              "35     35    U+3084    や     ya\n",
              "36     36    U+3086    ゆ     yu\n",
              "37     37    U+3088    よ     yo\n",
              "38     38    U+3089    ら     ra\n",
              "39     39    U+308A    り     ri\n",
              "40     40    U+308B    る     ru\n",
              "41     41    U+308C    れ     re\n",
              "42     42    U+308D    ろ     ro\n",
              "43     43    U+308F    わ     wa\n",
              "44     44    U+3090    ゐ      _\n",
              "45     45    U+3091    ゑ      _\n",
              "46     46    U+3092    を      o\n",
              "47     47    U+3093    ん      n\n",
              "48     48    U+309D    ゝ      _"
            ],
            "text/html": [
              "\n",
              "  <div id=\"df-8ec7c3b5-6f3e-4612-8b52-a74e405af871\">\n",
              "    <div class=\"colab-df-container\">\n",
              "      <div>\n",
              "<style scoped>\n",
              "    .dataframe tbody tr th:only-of-type {\n",
              "        vertical-align: middle;\n",
              "    }\n",
              "\n",
              "    .dataframe tbody tr th {\n",
              "        vertical-align: top;\n",
              "    }\n",
              "\n",
              "    .dataframe thead th {\n",
              "        text-align: right;\n",
              "    }\n",
              "</style>\n",
              "<table border=\"1\" class=\"dataframe\">\n",
              "  <thead>\n",
              "    <tr style=\"text-align: right;\">\n",
              "      <th></th>\n",
              "      <th>index</th>\n",
              "      <th>codepoint</th>\n",
              "      <th>char</th>\n",
              "      <th>romaji</th>\n",
              "    </tr>\n",
              "  </thead>\n",
              "  <tbody>\n",
              "    <tr>\n",
              "      <th>0</th>\n",
              "      <td>0</td>\n",
              "      <td>U+3042</td>\n",
              "      <td>あ</td>\n",
              "      <td>a</td>\n",
              "    </tr>\n",
              "    <tr>\n",
              "      <th>1</th>\n",
              "      <td>1</td>\n",
              "      <td>U+3044</td>\n",
              "      <td>い</td>\n",
              "      <td>i</td>\n",
              "    </tr>\n",
              "    <tr>\n",
              "      <th>2</th>\n",
              "      <td>2</td>\n",
              "      <td>U+3046</td>\n",
              "      <td>う</td>\n",
              "      <td>u</td>\n",
              "    </tr>\n",
              "    <tr>\n",
              "      <th>3</th>\n",
              "      <td>3</td>\n",
              "      <td>U+3048</td>\n",
              "      <td>え</td>\n",
              "      <td>e</td>\n",
              "    </tr>\n",
              "    <tr>\n",
              "      <th>4</th>\n",
              "      <td>4</td>\n",
              "      <td>U+304A</td>\n",
              "      <td>お</td>\n",
              "      <td>o</td>\n",
              "    </tr>\n",
              "    <tr>\n",
              "      <th>5</th>\n",
              "      <td>5</td>\n",
              "      <td>U+304B</td>\n",
              "      <td>か</td>\n",
              "      <td>ka</td>\n",
              "    </tr>\n",
              "    <tr>\n",
              "      <th>6</th>\n",
              "      <td>6</td>\n",
              "      <td>U+304D</td>\n",
              "      <td>き</td>\n",
              "      <td>ki</td>\n",
              "    </tr>\n",
              "    <tr>\n",
              "      <th>7</th>\n",
              "      <td>7</td>\n",
              "      <td>U+304F</td>\n",
              "      <td>く</td>\n",
              "      <td>ku</td>\n",
              "    </tr>\n",
              "    <tr>\n",
              "      <th>8</th>\n",
              "      <td>8</td>\n",
              "      <td>U+3051</td>\n",
              "      <td>け</td>\n",
              "      <td>ke</td>\n",
              "    </tr>\n",
              "    <tr>\n",
              "      <th>9</th>\n",
              "      <td>9</td>\n",
              "      <td>U+3053</td>\n",
              "      <td>こ</td>\n",
              "      <td>ko</td>\n",
              "    </tr>\n",
              "    <tr>\n",
              "      <th>10</th>\n",
              "      <td>10</td>\n",
              "      <td>U+3055</td>\n",
              "      <td>さ</td>\n",
              "      <td>sa</td>\n",
              "    </tr>\n",
              "    <tr>\n",
              "      <th>11</th>\n",
              "      <td>11</td>\n",
              "      <td>U+3057</td>\n",
              "      <td>し</td>\n",
              "      <td>shi</td>\n",
              "    </tr>\n",
              "    <tr>\n",
              "      <th>12</th>\n",
              "      <td>12</td>\n",
              "      <td>U+3059</td>\n",
              "      <td>す</td>\n",
              "      <td>su</td>\n",
              "    </tr>\n",
              "    <tr>\n",
              "      <th>13</th>\n",
              "      <td>13</td>\n",
              "      <td>U+305B</td>\n",
              "      <td>せ</td>\n",
              "      <td>se</td>\n",
              "    </tr>\n",
              "    <tr>\n",
              "      <th>14</th>\n",
              "      <td>14</td>\n",
              "      <td>U+305D</td>\n",
              "      <td>そ</td>\n",
              "      <td>so</td>\n",
              "    </tr>\n",
              "    <tr>\n",
              "      <th>15</th>\n",
              "      <td>15</td>\n",
              "      <td>U+305F</td>\n",
              "      <td>た</td>\n",
              "      <td>ta</td>\n",
              "    </tr>\n",
              "    <tr>\n",
              "      <th>16</th>\n",
              "      <td>16</td>\n",
              "      <td>U+3061</td>\n",
              "      <td>ち</td>\n",
              "      <td>chi</td>\n",
              "    </tr>\n",
              "    <tr>\n",
              "      <th>17</th>\n",
              "      <td>17</td>\n",
              "      <td>U+3064</td>\n",
              "      <td>つ</td>\n",
              "      <td>tsu</td>\n",
              "    </tr>\n",
              "    <tr>\n",
              "      <th>18</th>\n",
              "      <td>18</td>\n",
              "      <td>U+3066</td>\n",
              "      <td>て</td>\n",
              "      <td>te</td>\n",
              "    </tr>\n",
              "    <tr>\n",
              "      <th>19</th>\n",
              "      <td>19</td>\n",
              "      <td>U+3068</td>\n",
              "      <td>と</td>\n",
              "      <td>to</td>\n",
              "    </tr>\n",
              "    <tr>\n",
              "      <th>20</th>\n",
              "      <td>20</td>\n",
              "      <td>U+306A</td>\n",
              "      <td>な</td>\n",
              "      <td>na</td>\n",
              "    </tr>\n",
              "    <tr>\n",
              "      <th>21</th>\n",
              "      <td>21</td>\n",
              "      <td>U+306B</td>\n",
              "      <td>に</td>\n",
              "      <td>ni</td>\n",
              "    </tr>\n",
              "    <tr>\n",
              "      <th>22</th>\n",
              "      <td>22</td>\n",
              "      <td>U+306C</td>\n",
              "      <td>ぬ</td>\n",
              "      <td>nu</td>\n",
              "    </tr>\n",
              "    <tr>\n",
              "      <th>23</th>\n",
              "      <td>23</td>\n",
              "      <td>U+306D</td>\n",
              "      <td>ね</td>\n",
              "      <td>ne</td>\n",
              "    </tr>\n",
              "    <tr>\n",
              "      <th>24</th>\n",
              "      <td>24</td>\n",
              "      <td>U+306E</td>\n",
              "      <td>の</td>\n",
              "      <td>no</td>\n",
              "    </tr>\n",
              "    <tr>\n",
              "      <th>25</th>\n",
              "      <td>25</td>\n",
              "      <td>U+306F</td>\n",
              "      <td>は</td>\n",
              "      <td>ha</td>\n",
              "    </tr>\n",
              "    <tr>\n",
              "      <th>26</th>\n",
              "      <td>26</td>\n",
              "      <td>U+3072</td>\n",
              "      <td>ひ</td>\n",
              "      <td>hi</td>\n",
              "    </tr>\n",
              "    <tr>\n",
              "      <th>27</th>\n",
              "      <td>27</td>\n",
              "      <td>U+3075</td>\n",
              "      <td>ふ</td>\n",
              "      <td>fu</td>\n",
              "    </tr>\n",
              "    <tr>\n",
              "      <th>28</th>\n",
              "      <td>28</td>\n",
              "      <td>U+3078</td>\n",
              "      <td>へ</td>\n",
              "      <td>he</td>\n",
              "    </tr>\n",
              "    <tr>\n",
              "      <th>29</th>\n",
              "      <td>29</td>\n",
              "      <td>U+307B</td>\n",
              "      <td>ほ</td>\n",
              "      <td>ho</td>\n",
              "    </tr>\n",
              "    <tr>\n",
              "      <th>30</th>\n",
              "      <td>30</td>\n",
              "      <td>U+307E</td>\n",
              "      <td>ま</td>\n",
              "      <td>ma</td>\n",
              "    </tr>\n",
              "    <tr>\n",
              "      <th>31</th>\n",
              "      <td>31</td>\n",
              "      <td>U+307F</td>\n",
              "      <td>み</td>\n",
              "      <td>mi</td>\n",
              "    </tr>\n",
              "    <tr>\n",
              "      <th>32</th>\n",
              "      <td>32</td>\n",
              "      <td>U+3080</td>\n",
              "      <td>む</td>\n",
              "      <td>mu</td>\n",
              "    </tr>\n",
              "    <tr>\n",
              "      <th>33</th>\n",
              "      <td>33</td>\n",
              "      <td>U+3081</td>\n",
              "      <td>め</td>\n",
              "      <td>me</td>\n",
              "    </tr>\n",
              "    <tr>\n",
              "      <th>34</th>\n",
              "      <td>34</td>\n",
              "      <td>U+3082</td>\n",
              "      <td>も</td>\n",
              "      <td>mo</td>\n",
              "    </tr>\n",
              "    <tr>\n",
              "      <th>35</th>\n",
              "      <td>35</td>\n",
              "      <td>U+3084</td>\n",
              "      <td>や</td>\n",
              "      <td>ya</td>\n",
              "    </tr>\n",
              "    <tr>\n",
              "      <th>36</th>\n",
              "      <td>36</td>\n",
              "      <td>U+3086</td>\n",
              "      <td>ゆ</td>\n",
              "      <td>yu</td>\n",
              "    </tr>\n",
              "    <tr>\n",
              "      <th>37</th>\n",
              "      <td>37</td>\n",
              "      <td>U+3088</td>\n",
              "      <td>よ</td>\n",
              "      <td>yo</td>\n",
              "    </tr>\n",
              "    <tr>\n",
              "      <th>38</th>\n",
              "      <td>38</td>\n",
              "      <td>U+3089</td>\n",
              "      <td>ら</td>\n",
              "      <td>ra</td>\n",
              "    </tr>\n",
              "    <tr>\n",
              "      <th>39</th>\n",
              "      <td>39</td>\n",
              "      <td>U+308A</td>\n",
              "      <td>り</td>\n",
              "      <td>ri</td>\n",
              "    </tr>\n",
              "    <tr>\n",
              "      <th>40</th>\n",
              "      <td>40</td>\n",
              "      <td>U+308B</td>\n",
              "      <td>る</td>\n",
              "      <td>ru</td>\n",
              "    </tr>\n",
              "    <tr>\n",
              "      <th>41</th>\n",
              "      <td>41</td>\n",
              "      <td>U+308C</td>\n",
              "      <td>れ</td>\n",
              "      <td>re</td>\n",
              "    </tr>\n",
              "    <tr>\n",
              "      <th>42</th>\n",
              "      <td>42</td>\n",
              "      <td>U+308D</td>\n",
              "      <td>ろ</td>\n",
              "      <td>ro</td>\n",
              "    </tr>\n",
              "    <tr>\n",
              "      <th>43</th>\n",
              "      <td>43</td>\n",
              "      <td>U+308F</td>\n",
              "      <td>わ</td>\n",
              "      <td>wa</td>\n",
              "    </tr>\n",
              "    <tr>\n",
              "      <th>44</th>\n",
              "      <td>44</td>\n",
              "      <td>U+3090</td>\n",
              "      <td>ゐ</td>\n",
              "      <td>_</td>\n",
              "    </tr>\n",
              "    <tr>\n",
              "      <th>45</th>\n",
              "      <td>45</td>\n",
              "      <td>U+3091</td>\n",
              "      <td>ゑ</td>\n",
              "      <td>_</td>\n",
              "    </tr>\n",
              "    <tr>\n",
              "      <th>46</th>\n",
              "      <td>46</td>\n",
              "      <td>U+3092</td>\n",
              "      <td>を</td>\n",
              "      <td>o</td>\n",
              "    </tr>\n",
              "    <tr>\n",
              "      <th>47</th>\n",
              "      <td>47</td>\n",
              "      <td>U+3093</td>\n",
              "      <td>ん</td>\n",
              "      <td>n</td>\n",
              "    </tr>\n",
              "    <tr>\n",
              "      <th>48</th>\n",
              "      <td>48</td>\n",
              "      <td>U+309D</td>\n",
              "      <td>ゝ</td>\n",
              "      <td>_</td>\n",
              "    </tr>\n",
              "  </tbody>\n",
              "</table>\n",
              "</div>\n",
              "      <button class=\"colab-df-convert\" onclick=\"convertToInteractive('df-8ec7c3b5-6f3e-4612-8b52-a74e405af871')\"\n",
              "              title=\"Convert this dataframe to an interactive table.\"\n",
              "              style=\"display:none;\">\n",
              "        \n",
              "  <svg xmlns=\"http://www.w3.org/2000/svg\" height=\"24px\"viewBox=\"0 0 24 24\"\n",
              "       width=\"24px\">\n",
              "    <path d=\"M0 0h24v24H0V0z\" fill=\"none\"/>\n",
              "    <path d=\"M18.56 5.44l.94 2.06.94-2.06 2.06-.94-2.06-.94-.94-2.06-.94 2.06-2.06.94zm-11 1L8.5 8.5l.94-2.06 2.06-.94-2.06-.94L8.5 2.5l-.94 2.06-2.06.94zm10 10l.94 2.06.94-2.06 2.06-.94-2.06-.94-.94-2.06-.94 2.06-2.06.94z\"/><path d=\"M17.41 7.96l-1.37-1.37c-.4-.4-.92-.59-1.43-.59-.52 0-1.04.2-1.43.59L10.3 9.45l-7.72 7.72c-.78.78-.78 2.05 0 2.83L4 21.41c.39.39.9.59 1.41.59.51 0 1.02-.2 1.41-.59l7.78-7.78 2.81-2.81c.8-.78.8-2.07 0-2.86zM5.41 20L4 18.59l7.72-7.72 1.47 1.35L5.41 20z\"/>\n",
              "  </svg>\n",
              "      </button>\n",
              "      \n",
              "  <style>\n",
              "    .colab-df-container {\n",
              "      display:flex;\n",
              "      flex-wrap:wrap;\n",
              "      gap: 12px;\n",
              "    }\n",
              "\n",
              "    .colab-df-convert {\n",
              "      background-color: #E8F0FE;\n",
              "      border: none;\n",
              "      border-radius: 50%;\n",
              "      cursor: pointer;\n",
              "      display: none;\n",
              "      fill: #1967D2;\n",
              "      height: 32px;\n",
              "      padding: 0 0 0 0;\n",
              "      width: 32px;\n",
              "    }\n",
              "\n",
              "    .colab-df-convert:hover {\n",
              "      background-color: #E2EBFA;\n",
              "      box-shadow: 0px 1px 2px rgba(60, 64, 67, 0.3), 0px 1px 3px 1px rgba(60, 64, 67, 0.15);\n",
              "      fill: #174EA6;\n",
              "    }\n",
              "\n",
              "    [theme=dark] .colab-df-convert {\n",
              "      background-color: #3B4455;\n",
              "      fill: #D2E3FC;\n",
              "    }\n",
              "\n",
              "    [theme=dark] .colab-df-convert:hover {\n",
              "      background-color: #434B5C;\n",
              "      box-shadow: 0px 1px 3px 1px rgba(0, 0, 0, 0.15);\n",
              "      filter: drop-shadow(0px 1px 2px rgba(0, 0, 0, 0.3));\n",
              "      fill: #FFFFFF;\n",
              "    }\n",
              "  </style>\n",
              "\n",
              "      <script>\n",
              "        const buttonEl =\n",
              "          document.querySelector('#df-8ec7c3b5-6f3e-4612-8b52-a74e405af871 button.colab-df-convert');\n",
              "        buttonEl.style.display =\n",
              "          google.colab.kernel.accessAllowed ? 'block' : 'none';\n",
              "\n",
              "        async function convertToInteractive(key) {\n",
              "          const element = document.querySelector('#df-8ec7c3b5-6f3e-4612-8b52-a74e405af871');\n",
              "          const dataTable =\n",
              "            await google.colab.kernel.invokeFunction('convertToInteractive',\n",
              "                                                     [key], {});\n",
              "          if (!dataTable) return;\n",
              "\n",
              "          const docLinkHtml = 'Like what you see? Visit the ' +\n",
              "            '<a target=\"_blank\" href=https://colab.research.google.com/notebooks/data_table.ipynb>data table notebook</a>'\n",
              "            + ' to learn more about interactive tables.';\n",
              "          element.innerHTML = '';\n",
              "          dataTable['output_type'] = 'display_data';\n",
              "          await google.colab.output.renderOutput(dataTable, element);\n",
              "          const docLink = document.createElement('div');\n",
              "          docLink.innerHTML = docLinkHtml;\n",
              "          element.appendChild(docLink);\n",
              "        }\n",
              "      </script>\n",
              "    </div>\n",
              "  </div>\n",
              "  "
            ]
          },
          "metadata": {},
          "execution_count": 5
        }
      ]
    },
    {
      "cell_type": "code",
      "source": [
        "f'Percent for each category: {np.bincount(train_labels)/len(train_labels)*100}'"
      ],
      "metadata": {
        "colab": {
          "base_uri": "https://localhost:8080/",
          "height": 87
        },
        "id": "ltQRnzNz_Fcl",
        "outputId": "45b19433-8d2c-4f9a-f220-d67388644973"
      },
      "execution_count": 6,
      "outputs": [
        {
          "output_type": "execute_result",
          "data": {
            "text/plain": [
              "'Percent for each category: [2.58214447 2.58214447 2.58214447 0.33438771 2.58214447 2.58214447\\n 2.58214447 2.58214447 2.02870484 2.58214447 2.58214447 2.58214447\\n 2.58214447 1.79243862 1.66419211 2.58214447 1.10386676 2.58214447\\n 2.58214447 2.58214447 2.58214447 2.58214447 0.88782734 1.05480602\\n 2.58214447 2.58214447 2.20859424 2.58214447 2.58214447 0.85770232\\n 2.58214447 1.31689368 0.73935403 1.46063306 2.58214447 2.58214447\\n 0.68771114 2.58214447 2.58214447 2.58214447 2.58214447 2.58214447\\n 0.9205345  1.03156672 0.17945904 0.16870011 2.58214447 2.58214447\\n 1.51614916]'"
            ],
            "application/vnd.google.colaboratory.intrinsic+json": {
              "type": "string"
            }
          },
          "metadata": {},
          "execution_count": 6
        }
      ]
    },
    {
      "cell_type": "code",
      "source": [
        "train_labels"
      ],
      "metadata": {
        "colab": {
          "base_uri": "https://localhost:8080/"
        },
        "id": "8ofhj5yPCsHR",
        "outputId": "1c0279f5-2ecf-4016-d43f-1a24d78423a4"
      },
      "execution_count": 7,
      "outputs": [
        {
          "output_type": "execute_result",
          "data": {
            "text/plain": [
              "array([30, 19, 20, ..., 10, 39, 30], dtype=uint8)"
            ]
          },
          "metadata": {},
          "execution_count": 7
        }
      ]
    },
    {
      "cell_type": "code",
      "source": [
        "labels = char_df['romaji']\n",
        "from collections import Counter\n",
        "ct = Counter(train_labels)\n",
        "ct"
      ],
      "metadata": {
        "colab": {
          "base_uri": "https://localhost:8080/"
        },
        "id": "SVOd3LZxB7y4",
        "outputId": "56e5b861-4835-444f-fb21-2a453e1d4858"
      },
      "execution_count": 8,
      "outputs": [
        {
          "output_type": "execute_result",
          "data": {
            "text/plain": [
              "Counter({30: 6000,\n",
              "         19: 6000,\n",
              "         20: 6000,\n",
              "         7: 6000,\n",
              "         4: 6000,\n",
              "         35: 6000,\n",
              "         24: 6000,\n",
              "         43: 2397,\n",
              "         46: 6000,\n",
              "         25: 6000,\n",
              "         15: 6000,\n",
              "         27: 6000,\n",
              "         47: 6000,\n",
              "         12: 6000,\n",
              "         13: 4165,\n",
              "         10: 6000,\n",
              "         37: 6000,\n",
              "         40: 6000,\n",
              "         0: 6000,\n",
              "         2: 6000,\n",
              "         6: 6000,\n",
              "         1: 6000,\n",
              "         8: 4714,\n",
              "         18: 6000,\n",
              "         21: 6000,\n",
              "         41: 6000,\n",
              "         39: 6000,\n",
              "         28: 6000,\n",
              "         26: 5132,\n",
              "         34: 6000,\n",
              "         3: 777,\n",
              "         14: 3867,\n",
              "         31: 3060,\n",
              "         38: 6000,\n",
              "         5: 6000,\n",
              "         44: 417,\n",
              "         42: 2139,\n",
              "         16: 2565,\n",
              "         36: 1598,\n",
              "         22: 2063,\n",
              "         48: 3523,\n",
              "         33: 3394,\n",
              "         17: 6000,\n",
              "         45: 392,\n",
              "         9: 6000,\n",
              "         11: 6000,\n",
              "         23: 2451,\n",
              "         29: 1993,\n",
              "         32: 1718})"
            ]
          },
          "metadata": {},
          "execution_count": 8
        }
      ]
    },
    {
      "cell_type": "code",
      "source": [
        "plt.figure(figsize=(14, 8))\n",
        "plt.bar([labels[int(i)] for i in list(ct.keys())], list(ct.values()), color ='blue', width = 0.4)\n",
        "plt.show()"
      ],
      "metadata": {
        "colab": {
          "base_uri": "https://localhost:8080/",
          "height": 676
        },
        "id": "LjM_XK_tDgyc",
        "outputId": "4a93346a-65f9-4830-cb40-7c8d220bb217"
      },
      "execution_count": 9,
      "outputs": [
        {
          "output_type": "display_data",
          "data": {
            "text/plain": [
              "<Figure size 1400x800 with 1 Axes>"
            ],
            "image/png": "[encoded data removed]"
          },
          "metadata": {}
        }
      ]
    },
    {
      "cell_type": "code",
      "source": [
        "def plot_sample_imaes(images, labels, map_labels):\n",
        "    plt.figure(figsize=(10, 6))\n",
        "    random_idx = [i for i in range(15)]\n",
        "    np.random.shuffle(random_idx)\n",
        "    for index_plt, idx in enumerate(random_idx, 1):\n",
        "        image = images[idx]\n",
        "        label = labels[idx]\n",
        "        label = map_labels[int(label)]\n",
        "        plt.subplot(3, 5, index_plt)\n",
        "        plt.grid(False)\n",
        "        plt.imshow(image, cmap=plt.cm.binary)\n",
        "        plt.xlabel(label)"
      ],
      "metadata": {
        "id": "CnxiHuSJI2V8"
      },
      "execution_count": 10,
      "outputs": []
    },
    {
      "cell_type": "code",
      "source": [
        "plot_sample_imaes(train_images, train_labels, labels)"
      ],
      "metadata": {
        "colab": {
          "base_uri": "https://localhost:8080/",
          "height": 543
        },
        "id": "XuiovPa0JcWo",
        "outputId": "7bb38315-6522-40d3-de04-233cbf86e23a"
      },
      "execution_count": 11,
      "outputs": [
        {
          "output_type": "display_data",
          "data": {
            "text/plain": [
              "<Figure size 1000x600 with 15 Axes>"
            ],
            "image/png": "[encoded data removed]"
          },
          "metadata": {}
        }
      ]
    },
    {
      "cell_type": "code",
      "source": [
        "plot_sample_imaes(test_images, test_labels, labels)"
      ],
      "metadata": {
        "colab": {
          "base_uri": "https://localhost:8080/",
          "height": 543
        },
        "id": "WsThspUBJyAg",
        "outputId": "19fc105f-915b-4951-a077-e57bd414c9ae"
      },
      "execution_count": 12,
      "outputs": [
        {
          "output_type": "display_data",
          "data": {
            "text/plain": [
              "<Figure size 1000x600 with 15 Axes>"
            ],
            "image/png": "[encoded data removed]"
          },
          "metadata": {}
        }
      ]
    },
    {
      "cell_type": "code",
      "source": [],
      "metadata": {
        "id": "LSbTNGT9FNwY"
      },
      "execution_count": null,
      "outputs": []
    }
  ]
}