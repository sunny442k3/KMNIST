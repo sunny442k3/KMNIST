{
  "nbformat": 4,
  "nbformat_minor": 0,
  "metadata": {
    "colab": {
      "provenance": [],
      "gpuType": "T4"
    },
    "kernelspec": {
      "name": "python3",
      "display_name": "Python 3"
    },
    "language_info": {
      "name": "python"
    },
    "accelerator": "GPU"
  },
  "cells": [
    {
      "cell_type": "code",
      "execution_count": 1,
      "metadata": {
        "colab": {
          "base_uri": "https://localhost:8080/"
        },
        "id": "K_B9YU_Tm6mJ",
        "outputId": "31072e13-2b58-4557-bee6-69a5ff27d1b2"
      },
      "outputs": [
        {
          "output_type": "stream",
          "name": "stdout",
          "text": [
            "Cloning into 'KMNIST'...\n",
            "remote: Enumerating objects: 20, done.\u001b[K\n",
            "remote: Counting objects: 100% (20/20), done.\u001b[K\n",
            "remote: Compressing objects: 100% (17/17), done.\u001b[K\n",
            "remote: Total 20 (delta 1), reused 20 (delta 1), pack-reused 0\u001b[K\n",
            "Unpacking objects: 100% (20/20), 95.32 KiB | 5.02 MiB/s, done.\n"
          ]
        }
      ],
      "source": [
        "!git clone https://github.com/sunny442k3/KMNIST.git"
      ]
    },
    {
      "cell_type": "code",
      "source": [
        "!mv ./KMNIST/* ./"
      ],
      "metadata": {
        "id": "ft2nJcCQm-0l"
      },
      "execution_count": 2,
      "outputs": []
    },
    {
      "cell_type": "code",
      "source": [
        "import utils\n",
        "import argparse\n",
        "from trainer import Trainer\n",
        "from dataset import JPDDataset\n",
        "from torch.utils.data import DataLoader\n",
        "from torchvision import transforms as T"
      ],
      "metadata": {
        "id": "9Gb88yeenBTi"
      },
      "execution_count": 1,
      "outputs": []
    },
    {
      "cell_type": "code",
      "source": [
        "def create_loader(cf):\n",
        "    train_images, train_labels, test_images, test_labels = utils.load_dataset(cf)\n",
        "    train_images = train_images / 255.0\n",
        "    test_images = test_images / 255.0\n",
        "    transform = T.Compose([\n",
        "        T.ToPILImage(),\n",
        "        T.RandomAffine(degrees=15),\n",
        "        T.RandomPerspective(),\n",
        "        T.ToTensor(),\n",
        "        T.Normalize(train_images.mean(), train_images.std())\n",
        "    ])\n",
        "    train_dataset = JPDDataset(train_images.tolist(), train_labels.tolist(), transform)\n",
        "    test_dataset = JPDDataset(test_images.tolist(), test_labels.tolist())\n",
        "    # return train_dataset, test_dataset\n",
        "    print(f\"[+] Train sample: {len(train_dataset)} - Test sample: {len(test_dataset)}\")\n",
        "    train_loader = DataLoader(train_dataset, batch_size=cf.batch_size, shuffle=True, pin_memory=True)\n",
        "    test_loader = DataLoader(test_dataset, batch_size=cf.batch_size*2, shuffle=True, pin_memory=True)\n",
        "    print(f\"[+] Train batch: {len(train_loader)} - Test batch: {len(test_loader)}\")\n",
        "    return train_loader, test_loader"
      ],
      "metadata": {
        "id": "tMY4nAV1nJA2"
      },
      "execution_count": 2,
      "outputs": []
    },
    {
      "cell_type": "code",
      "source": [
        "class cf:\n",
        "    dataset = \"k49\"\n",
        "    epoch = 20\n",
        "    batch_size = 4096\n",
        "    learning_rate = 0.003\n",
        "    checkpoint = \"./checkpoint.pt\"\n",
        "    num_classes = 49\n",
        "    input_dim = 1"
      ],
      "metadata": {
        "id": "sATmID9EnXis"
      },
      "execution_count": 4,
      "outputs": []
    },
    {
      "cell_type": "code",
      "source": [
        "train_loader, test_loader = create_loader(cf)"
      ],
      "metadata": {
        "colab": {
          "base_uri": "https://localhost:8080/"
        },
        "id": "Dd-OHWYknmo6",
        "outputId": "15cb5f5c-5967-40bd-9ede-3a352adb9b36"
      },
      "execution_count": 5,
      "outputs": [
        {
          "output_type": "stream",
          "name": "stdout",
          "text": [
            "[+] Train sample: 232365 - Test sample: 38547\n",
            "[+] Train batch: 57 - Test batch: 5\n"
          ]
        }
      ]
    },
    {
      "cell_type": "code",
      "source": [
        "for (X, y) in train_loader:\n",
        "    print(X.size(), y.size())\n",
        "    break"
      ],
      "metadata": {
        "colab": {
          "base_uri": "https://localhost:8080/"
        },
        "id": "Q1wT5zyUv7vq",
        "outputId": "db9598b9-5257-435a-c499-3362a5e8b97b"
      },
      "execution_count": 5,
      "outputs": [
        {
          "output_type": "stream",
          "name": "stdout",
          "text": [
            "torch.Size([512, 1, 28, 28]) torch.Size([512])\n"
          ]
        }
      ]
    },
    {
      "cell_type": "code",
      "source": [
        "import torch\n",
        "import torchvision\n",
        "import torch.nn as nn\n",
        "\n",
        "class ResNet(nn.Module):\n",
        "\n",
        "    def __init__(self, cf):\n",
        "        super(ResNet, self).__init__()\n",
        "\n",
        "        model = torchvision.models.resnet101(weights=True)\n",
        "        model.conv1 = torch.nn.Conv2d(cf.input_dim, 64, kernel_size=(7, 7), stride=(2, 2), padding=(3, 3), bias=False)\n",
        "        # model.fc = torch.nn.Linear(in_features=512, out_features=num_classes, bias=True)\n",
        "        self.logit = model\n",
        "        self.fc = nn.Linear(1000, cf.num_classes, bias=True)\n",
        "\n",
        "    def forward(self, x):\n",
        "        out = self.logit(x)\n",
        "        return self.fc(out)"
      ],
      "metadata": {
        "id": "kSKOHIwFnobI"
      },
      "execution_count": 6,
      "outputs": []
    },
    {
      "cell_type": "code",
      "source": [
        "model = ResNet(cf)"
      ],
      "metadata": {
        "colab": {
          "base_uri": "https://localhost:8080/"
        },
        "id": "otSAZ9C7pdDU",
        "outputId": "c0e4bbd7-844e-4573-c651-8850fc0ad06d"
      },
      "execution_count": 7,
      "outputs": [
        {
          "output_type": "stream",
          "name": "stderr",
          "text": [
            "/usr/local/lib/python3.10/dist-packages/torchvision/models/_utils.py:223: UserWarning: Arguments other than a weight enum or `None` for 'weights' are deprecated since 0.13 and may be removed in the future. The current behavior is equivalent to passing `weights=ResNet101_Weights.IMAGENET1K_V1`. You can also use `weights=ResNet101_Weights.DEFAULT` to get the most up-to-date weights.\n",
            "  warnings.warn(msg)\n"
          ]
        }
      ]
    },
    {
      "cell_type": "code",
      "source": [
        "model"
      ],
      "metadata": {
        "id": "v5yhBYfppjBW"
      },
      "execution_count": null,
      "outputs": []
    },
    {
      "cell_type": "code",
      "source": [
        "criterion = torch.nn.CrossEntropyLoss()\n",
        "optimizer = torch.optim.Adam(model.parameters(), lr=cf.learning_rate)"
      ],
      "metadata": {
        "id": "46m8y9pDpjpJ"
      },
      "execution_count": 8,
      "outputs": []
    },
    {
      "cell_type": "code",
      "source": [
        "trainer = Trainer(model, optimizer, criterion)"
      ],
      "metadata": {
        "id": "GojrqDscpn4d"
      },
      "execution_count": 9,
      "outputs": []
    },
    {
      "cell_type": "code",
      "source": [
        "trainer.fit(train_loader, test_loader, cf.epoch, cf.checkpoint)"
      ],
      "metadata": {
        "colab": {
          "base_uri": "https://localhost:8080/"
        },
        "id": "UjBkslu3ppth",
        "outputId": "42a3d4ea-7ce5-499d-86bc-9d82ba2285bf"
      },
      "execution_count": null,
      "outputs": [
        {
          "output_type": "stream",
          "name": "stdout",
          "text": [
            "Running on: Tesla T4\n",
            "Total update step: 1140\n",
            "Epoch: 1\n",
            "Train step: 10 / 57"
          ]
        }
      ]
    },
    {
      "cell_type": "code",
      "source": [],
      "metadata": {
        "id": "EThaBNfypy6R"
      },
      "execution_count": null,
      "outputs": []
    }
  ]
}